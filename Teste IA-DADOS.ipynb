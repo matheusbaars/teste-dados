{
 "cells": [
  {
   "cell_type": "markdown",
   "id": "0a139c80-5b9e-428f-9d62-8ea01e9138f4",
   "metadata": {
    "tags": []
   },
   "source": [
    "# Teste de IA-DADOS"
   ]
  },
  {
   "cell_type": "markdown",
   "id": "df4bf660-4210-41e4-a093-8ecc8baccb4c",
   "metadata": {
    "jp-MarkdownHeadingCollapsed": true,
    "tags": []
   },
   "source": [
    "## Teste proposto"
   ]
  },
  {
   "cell_type": "code",
   "execution_count": 1,
   "id": "2d6fed77-2596-4c78-bf49-d15205f57c16",
   "metadata": {
    "tags": []
   },
   "outputs": [
    {
     "data": {
      "text/html": [
       "\n",
       "        <iframe\n",
       "            width=\"1000\"\n",
       "            height=\"1000\"\n",
       "            src=\"Prova técnica - Engenheiro de Dados.pdf\"\n",
       "            frameborder=\"0\"\n",
       "            allowfullscreen\n",
       "            \n",
       "        ></iframe>\n",
       "        "
      ],
      "text/plain": [
       "<IPython.lib.display.IFrame at 0x161e409d340>"
      ]
     },
     "execution_count": 1,
     "metadata": {},
     "output_type": "execute_result"
    }
   ],
   "source": [
    "from IPython.display import IFrame, display\n",
    "filepath = \"Prova técnica - Engenheiro de Dados.pdf\"\n",
    "IFrame(filepath, width=1000, height=1000)"
   ]
  },
  {
   "cell_type": "markdown",
   "id": "2cb76d22-8a32-4ab9-be0c-223298e9d448",
   "metadata": {
    "jp-MarkdownHeadingCollapsed": true,
    "tags": []
   },
   "source": [
    "## Esquema das tabelas"
   ]
  },
  {
   "cell_type": "code",
   "execution_count": 2,
   "id": "56e43849-fe4f-4dc7-b113-5bcb7049bbe7",
   "metadata": {
    "tags": []
   },
   "outputs": [
    {
     "data": {
      "text/html": [
       "\n",
       "        <iframe\n",
       "            width=\"1000\"\n",
       "            height=\"1200\"\n",
       "            src=\"schema-tabelas.pdf\"\n",
       "            frameborder=\"0\"\n",
       "            allowfullscreen\n",
       "            \n",
       "        ></iframe>\n",
       "        "
      ],
      "text/plain": [
       "<IPython.lib.display.IFrame at 0x161e409dc70>"
      ]
     },
     "execution_count": 2,
     "metadata": {},
     "output_type": "execute_result"
    }
   ],
   "source": [
    "filepath = \"schema-tabelas.pdf\"\n",
    "IFrame(filepath, width=1000, height=1200)"
   ]
  },
  {
   "cell_type": "markdown",
   "id": "dcb0af5f-0065-4451-8422-04493cd701af",
   "metadata": {
    "tags": []
   },
   "source": [
    "## Importação de módulos"
   ]
  },
  {
   "cell_type": "code",
   "execution_count": 3,
   "id": "dad3c2b5-bbd0-4bac-9a28-f18c6c4da354",
   "metadata": {},
   "outputs": [],
   "source": [
    "import numpy as np\n",
    "import pandas as pd\n",
    "from validate_docbr import CNPJ\n",
    "\n",
    "pd.set_option('display.max_columns', None)"
   ]
  },
  {
   "cell_type": "markdown",
   "id": "73205561-900f-44e6-9dc3-00f7b85e9934",
   "metadata": {
    "tags": []
   },
   "source": [
    "## Importando tabelas"
   ]
  },
  {
   "cell_type": "code",
   "execution_count": 4,
   "id": "c8746ea8-c5bb-4858-bec9-8e4ed85719f8",
   "metadata": {},
   "outputs": [],
   "source": [
    "df_empresa_00 = pd.read_csv('empresa-part-00.csv', dtype=str)\n",
    "df_estab_00 = pd.read_csv('estab-part-00.csv', dtype=str)"
   ]
  },
  {
   "cell_type": "markdown",
   "id": "928ffefa-861a-42e9-843c-b4141086220c",
   "metadata": {
    "tags": []
   },
   "source": [
    "### Visualização das tabelas"
   ]
  },
  {
   "cell_type": "code",
   "execution_count": 5,
   "id": "65f47abe-c9e1-4da6-88d2-e9fde98178db",
   "metadata": {},
   "outputs": [
    {
     "data": {
      "text/html": [
       "<div>\n",
       "<style scoped>\n",
       "    .dataframe tbody tr th:only-of-type {\n",
       "        vertical-align: middle;\n",
       "    }\n",
       "\n",
       "    .dataframe tbody tr th {\n",
       "        vertical-align: top;\n",
       "    }\n",
       "\n",
       "    .dataframe thead th {\n",
       "        text-align: right;\n",
       "    }\n",
       "</style>\n",
       "<table border=\"1\" class=\"dataframe\">\n",
       "  <thead>\n",
       "    <tr style=\"text-align: right;\">\n",
       "      <th></th>\n",
       "      <th>cnpj_basico</th>\n",
       "      <th>razao_social</th>\n",
       "      <th>cod_natureza_juridica</th>\n",
       "      <th>cod_qualificacao_do_responsavel</th>\n",
       "      <th>capital_social</th>\n",
       "      <th>cod_porte_da_empresa</th>\n",
       "      <th>desc_ente_federativo_responsavel</th>\n",
       "    </tr>\n",
       "  </thead>\n",
       "  <tbody>\n",
       "    <tr>\n",
       "      <th>0</th>\n",
       "      <td>04708941</td>\n",
       "      <td>ORLANDO JOSE DA SILVA DE SAO FRANCISCO DO CONDE</td>\n",
       "      <td>2135</td>\n",
       "      <td>50</td>\n",
       "      <td>0,00</td>\n",
       "      <td>01</td>\n",
       "      <td>NaN</td>\n",
       "    </tr>\n",
       "    <tr>\n",
       "      <th>1</th>\n",
       "      <td>04791665</td>\n",
       "      <td>OLD BEACH CONFECCOES LTDA</td>\n",
       "      <td>2062</td>\n",
       "      <td>49</td>\n",
       "      <td>10000,00</td>\n",
       "      <td>01</td>\n",
       "      <td>NaN</td>\n",
       "    </tr>\n",
       "    <tr>\n",
       "      <th>2</th>\n",
       "      <td>04835908</td>\n",
       "      <td>GREMIO RECREATIVO,CULTURAL E SOCIAL ESCOLA DE ...</td>\n",
       "      <td>3999</td>\n",
       "      <td>16</td>\n",
       "      <td>0,00</td>\n",
       "      <td>05</td>\n",
       "      <td>NaN</td>\n",
       "    </tr>\n",
       "    <tr>\n",
       "      <th>3</th>\n",
       "      <td>04819590</td>\n",
       "      <td>CLELIA APARECIDA CESARIN</td>\n",
       "      <td>2135</td>\n",
       "      <td>50</td>\n",
       "      <td>0,00</td>\n",
       "      <td>01</td>\n",
       "      <td>NaN</td>\n",
       "    </tr>\n",
       "    <tr>\n",
       "      <th>4</th>\n",
       "      <td>04698380</td>\n",
       "      <td>SANTINA ZANCHETA FLAVIO</td>\n",
       "      <td>2135</td>\n",
       "      <td>50</td>\n",
       "      <td>0,00</td>\n",
       "      <td>05</td>\n",
       "      <td>NaN</td>\n",
       "    </tr>\n",
       "  </tbody>\n",
       "</table>\n",
       "</div>"
      ],
      "text/plain": [
       "  cnpj_basico                                       razao_social  \\\n",
       "0    04708941    ORLANDO JOSE DA SILVA DE SAO FRANCISCO DO CONDE   \n",
       "1    04791665                          OLD BEACH CONFECCOES LTDA   \n",
       "2    04835908  GREMIO RECREATIVO,CULTURAL E SOCIAL ESCOLA DE ...   \n",
       "3    04819590                           CLELIA APARECIDA CESARIN   \n",
       "4    04698380                            SANTINA ZANCHETA FLAVIO   \n",
       "\n",
       "  cod_natureza_juridica cod_qualificacao_do_responsavel capital_social  \\\n",
       "0                  2135                              50           0,00   \n",
       "1                  2062                              49       10000,00   \n",
       "2                  3999                              16           0,00   \n",
       "3                  2135                              50           0,00   \n",
       "4                  2135                              50           0,00   \n",
       "\n",
       "  cod_porte_da_empresa desc_ente_federativo_responsavel  \n",
       "0                   01                              NaN  \n",
       "1                   01                              NaN  \n",
       "2                   05                              NaN  \n",
       "3                   01                              NaN  \n",
       "4                   05                              NaN  "
      ]
     },
     "execution_count": 5,
     "metadata": {},
     "output_type": "execute_result"
    }
   ],
   "source": [
    "df_empresa_00.head(5)"
   ]
  },
  {
   "cell_type": "code",
   "execution_count": 6,
   "id": "9f39565b-90b2-45f2-9e42-11fe56fc349e",
   "metadata": {},
   "outputs": [
    {
     "data": {
      "text/html": [
       "<div>\n",
       "<style scoped>\n",
       "    .dataframe tbody tr th:only-of-type {\n",
       "        vertical-align: middle;\n",
       "    }\n",
       "\n",
       "    .dataframe tbody tr th {\n",
       "        vertical-align: top;\n",
       "    }\n",
       "\n",
       "    .dataframe thead th {\n",
       "        text-align: right;\n",
       "    }\n",
       "</style>\n",
       "<table border=\"1\" class=\"dataframe\">\n",
       "  <thead>\n",
       "    <tr style=\"text-align: right;\">\n",
       "      <th></th>\n",
       "      <th>cnpj_basico</th>\n",
       "      <th>cnpj_ordem</th>\n",
       "      <th>cnpj_dv</th>\n",
       "      <th>cod_identificador_matriz_filial</th>\n",
       "      <th>nome_fantasia</th>\n",
       "      <th>cod_situacao_cadastral</th>\n",
       "      <th>data_situacao_cadastral</th>\n",
       "      <th>cod_motivo_situacao_cadastral</th>\n",
       "      <th>end_nome_cidade_no_exterior</th>\n",
       "      <th>end_cod_pais</th>\n",
       "      <th>data_inicio_atividade</th>\n",
       "      <th>cod_cnae_fiscal_primaria</th>\n",
       "      <th>cod_cnae_fiscal_secundaria</th>\n",
       "      <th>end_tipo_de_logradouro</th>\n",
       "      <th>end_logradouro</th>\n",
       "      <th>end_numero</th>\n",
       "      <th>end_complemento</th>\n",
       "      <th>end_bairro</th>\n",
       "      <th>end_cep</th>\n",
       "      <th>end_uf</th>\n",
       "      <th>end_cod_municipio</th>\n",
       "      <th>ddd1</th>\n",
       "      <th>telefone1</th>\n",
       "      <th>ddd2</th>\n",
       "      <th>telefone2</th>\n",
       "      <th>dddfax</th>\n",
       "      <th>fax</th>\n",
       "      <th>email</th>\n",
       "      <th>cod_situacao_especial</th>\n",
       "      <th>data_situacao_especial</th>\n",
       "    </tr>\n",
       "  </thead>\n",
       "  <tbody>\n",
       "    <tr>\n",
       "      <th>0</th>\n",
       "      <td>32884891</td>\n",
       "      <td>0001</td>\n",
       "      <td>82</td>\n",
       "      <td>1</td>\n",
       "      <td>ACOUGUE DO CLAUDINHO</td>\n",
       "      <td>02</td>\n",
       "      <td>20190226</td>\n",
       "      <td>00</td>\n",
       "      <td>NaN</td>\n",
       "      <td>NaN</td>\n",
       "      <td>20190226</td>\n",
       "      <td>4722901</td>\n",
       "      <td>NaN</td>\n",
       "      <td>RUA</td>\n",
       "      <td>RAUL HORIONT</td>\n",
       "      <td>218</td>\n",
       "      <td>NaN</td>\n",
       "      <td>SANTO ANTONIO</td>\n",
       "      <td>33600000</td>\n",
       "      <td>MG</td>\n",
       "      <td>4985</td>\n",
       "      <td>31</td>\n",
       "      <td>em branco</td>\n",
       "      <td>NaN</td>\n",
       "      <td>NaN</td>\n",
       "      <td>NaN</td>\n",
       "      <td>NaN</td>\n",
       "      <td>luciomauro23120@gmail.com</td>\n",
       "      <td>NaN</td>\n",
       "      <td>NaN</td>\n",
       "    </tr>\n",
       "    <tr>\n",
       "      <th>1</th>\n",
       "      <td>9090900909009</td>\n",
       "      <td>0001</td>\n",
       "      <td>13</td>\n",
       "      <td>1</td>\n",
       "      <td>JOSE EDSON VALDEVINO</td>\n",
       "      <td>04</td>\n",
       "      <td>20220110</td>\n",
       "      <td>63</td>\n",
       "      <td>NaN</td>\n",
       "      <td>NaN</td>\n",
       "      <td>20190226</td>\n",
       "      <td>4399103</td>\n",
       "      <td>NaN</td>\n",
       "      <td>RUA</td>\n",
       "      <td>serra da piedade</td>\n",
       "      <td>06</td>\n",
       "      <td>NaN</td>\n",
       "      <td>VILA PRUDENTE</td>\n",
       "      <td>03131080</td>\n",
       "      <td>sp</td>\n",
       "      <td>7107</td>\n",
       "      <td>11</td>\n",
       "      <td>96444664</td>\n",
       "      <td>NaN</td>\n",
       "      <td>NaN</td>\n",
       "      <td>NaN</td>\n",
       "      <td>NaN</td>\n",
       "      <td>JOSEEDSONVALDEVANO@GMAIL.COM</td>\n",
       "      <td>NaN</td>\n",
       "      <td>NaN</td>\n",
       "    </tr>\n",
       "    <tr>\n",
       "      <th>2</th>\n",
       "      <td>32884919</td>\n",
       "      <td>0001</td>\n",
       "      <td>81</td>\n",
       "      <td>1</td>\n",
       "      <td>NaN</td>\n",
       "      <td>02</td>\n",
       "      <td>20190226</td>\n",
       "      <td>00</td>\n",
       "      <td>NaN</td>\n",
       "      <td>NaN</td>\n",
       "      <td>20190226</td>\n",
       "      <td>4399103</td>\n",
       "      <td>4399199,4322301</td>\n",
       "      <td>RUA</td>\n",
       "      <td>NaN</td>\n",
       "      <td>25</td>\n",
       "      <td>NaN</td>\n",
       "      <td>NUCLEO HABITACIONAL PRESIDENTE JANIO DA SILVA ...</td>\n",
       "      <td>17511748</td>\n",
       "      <td>sp</td>\n",
       "      <td>6681</td>\n",
       "      <td>14</td>\n",
       "      <td>NaN</td>\n",
       "      <td>NaN</td>\n",
       "      <td>NaN</td>\n",
       "      <td>NaN</td>\n",
       "      <td>NaN</td>\n",
       "      <td>NaN</td>\n",
       "      <td>NaN</td>\n",
       "      <td>NaN</td>\n",
       "    </tr>\n",
       "    <tr>\n",
       "      <th>3</th>\n",
       "      <td>32884931</td>\n",
       "      <td>0001</td>\n",
       "      <td>96</td>\n",
       "      <td>1</td>\n",
       "      <td>JARDIM VERDE</td>\n",
       "      <td>08</td>\n",
       "      <td>20211027</td>\n",
       "      <td>01</td>\n",
       "      <td>NaN</td>\n",
       "      <td>NaN</td>\n",
       "      <td>20190226</td>\n",
       "      <td>8130300</td>\n",
       "      <td>NaN</td>\n",
       "      <td>RUA</td>\n",
       "      <td>PERDIZ ASSENTAMENTO SOCIAL AREA J</td>\n",
       "      <td>90</td>\n",
       "      <td>NaN</td>\n",
       "      <td>ALIANCA</td>\n",
       "      <td>06236800</td>\n",
       "      <td>SP</td>\n",
       "      <td>6789</td>\n",
       "      <td>11</td>\n",
       "      <td>35995370</td>\n",
       "      <td>NaN</td>\n",
       "      <td>NaN</td>\n",
       "      <td>NaN</td>\n",
       "      <td>NaN</td>\n",
       "      <td>focusscontabilidade@gmail.com</td>\n",
       "      <td>NaN</td>\n",
       "      <td>NaN</td>\n",
       "    </tr>\n",
       "    <tr>\n",
       "      <th>4</th>\n",
       "      <td>9090900909009</td>\n",
       "      <td>0001</td>\n",
       "      <td>10</td>\n",
       "      <td>1</td>\n",
       "      <td>NaN</td>\n",
       "      <td>04</td>\n",
       "      <td>20220106</td>\n",
       "      <td>63</td>\n",
       "      <td>NaN</td>\n",
       "      <td>NaN</td>\n",
       "      <td>20190226</td>\n",
       "      <td>4930202</td>\n",
       "      <td>nulo</td>\n",
       "      <td>RUA</td>\n",
       "      <td>VENANCIO AIRES</td>\n",
       "      <td>720</td>\n",
       "      <td>CASA</td>\n",
       "      <td>CENTRO</td>\n",
       "      <td>97610000</td>\n",
       "      <td>rs</td>\n",
       "      <td>8865</td>\n",
       "      <td>55</td>\n",
       "      <td>99553341</td>\n",
       "      <td>NaN</td>\n",
       "      <td>NaN</td>\n",
       "      <td>NaN</td>\n",
       "      <td>NaN</td>\n",
       "      <td>NaN</td>\n",
       "      <td>NaN</td>\n",
       "      <td>NaN</td>\n",
       "    </tr>\n",
       "  </tbody>\n",
       "</table>\n",
       "</div>"
      ],
      "text/plain": [
       "     cnpj_basico cnpj_ordem cnpj_dv cod_identificador_matriz_filial  \\\n",
       "0       32884891       0001      82                               1   \n",
       "1  9090900909009       0001      13                               1   \n",
       "2       32884919       0001      81                               1   \n",
       "3       32884931       0001      96                               1   \n",
       "4  9090900909009       0001      10                               1   \n",
       "\n",
       "          nome_fantasia cod_situacao_cadastral data_situacao_cadastral  \\\n",
       "0  ACOUGUE DO CLAUDINHO                     02                20190226   \n",
       "1  JOSE EDSON VALDEVINO                     04                20220110   \n",
       "2                   NaN                     02                20190226   \n",
       "3          JARDIM VERDE                     08                20211027   \n",
       "4                   NaN                     04                20220106   \n",
       "\n",
       "  cod_motivo_situacao_cadastral end_nome_cidade_no_exterior end_cod_pais  \\\n",
       "0                            00                         NaN          NaN   \n",
       "1                            63                         NaN          NaN   \n",
       "2                            00                         NaN          NaN   \n",
       "3                            01                         NaN          NaN   \n",
       "4                            63                         NaN          NaN   \n",
       "\n",
       "  data_inicio_atividade cod_cnae_fiscal_primaria cod_cnae_fiscal_secundaria  \\\n",
       "0              20190226                  4722901                        NaN   \n",
       "1              20190226                  4399103                        NaN   \n",
       "2              20190226                  4399103            4399199,4322301   \n",
       "3              20190226                  8130300                        NaN   \n",
       "4              20190226                  4930202                       nulo   \n",
       "\n",
       "  end_tipo_de_logradouro                     end_logradouro end_numero  \\\n",
       "0                    RUA                       RAUL HORIONT        218   \n",
       "1                    RUA                   serra da piedade         06   \n",
       "2                    RUA                                NaN         25   \n",
       "3                    RUA  PERDIZ ASSENTAMENTO SOCIAL AREA J         90   \n",
       "4                    RUA                     VENANCIO AIRES        720   \n",
       "\n",
       "  end_complemento                                         end_bairro  \\\n",
       "0             NaN                                      SANTO ANTONIO   \n",
       "1             NaN                                      VILA PRUDENTE   \n",
       "2             NaN  NUCLEO HABITACIONAL PRESIDENTE JANIO DA SILVA ...   \n",
       "3             NaN                                            ALIANCA   \n",
       "4            CASA                                             CENTRO   \n",
       "\n",
       "    end_cep end_uf end_cod_municipio ddd1  telefone1 ddd2 telefone2 dddfax  \\\n",
       "0  33600000     MG              4985   31  em branco  NaN       NaN    NaN   \n",
       "1  03131080     sp              7107   11   96444664  NaN       NaN    NaN   \n",
       "2  17511748     sp              6681   14        NaN  NaN       NaN    NaN   \n",
       "3  06236800     SP              6789   11   35995370  NaN       NaN    NaN   \n",
       "4  97610000     rs              8865   55   99553341  NaN       NaN    NaN   \n",
       "\n",
       "   fax                          email cod_situacao_especial  \\\n",
       "0  NaN      luciomauro23120@gmail.com                   NaN   \n",
       "1  NaN   JOSEEDSONVALDEVANO@GMAIL.COM                   NaN   \n",
       "2  NaN                            NaN                   NaN   \n",
       "3  NaN  focusscontabilidade@gmail.com                   NaN   \n",
       "4  NaN                            NaN                   NaN   \n",
       "\n",
       "  data_situacao_especial  \n",
       "0                    NaN  \n",
       "1                    NaN  \n",
       "2                    NaN  \n",
       "3                    NaN  \n",
       "4                    NaN  "
      ]
     },
     "execution_count": 6,
     "metadata": {},
     "output_type": "execute_result"
    }
   ],
   "source": [
    "df_estab_00.head(5)"
   ]
  },
  {
   "cell_type": "markdown",
   "id": "e101cacb-4b1a-4198-a97f-46fb770a6a41",
   "metadata": {
    "jp-MarkdownHeadingCollapsed": true,
    "tags": []
   },
   "source": [
    "### Algumas informações gerais"
   ]
  },
  {
   "cell_type": "code",
   "execution_count": 7,
   "id": "3372b0be-cf6c-45ab-af38-83c45497adfb",
   "metadata": {},
   "outputs": [
    {
     "name": "stdout",
     "output_type": "stream",
     "text": [
      "<class 'pandas.core.frame.DataFrame'>\n",
      "RangeIndex: 112372 entries, 0 to 112371\n",
      "Data columns (total 7 columns):\n",
      " #   Column                            Non-Null Count   Dtype \n",
      "---  ------                            --------------   ----- \n",
      " 0   cnpj_basico                       112372 non-null  object\n",
      " 1   razao_social                      112372 non-null  object\n",
      " 2   cod_natureza_juridica             112372 non-null  object\n",
      " 3   cod_qualificacao_do_responsavel   112372 non-null  object\n",
      " 4   capital_social                    112372 non-null  object\n",
      " 5   cod_porte_da_empresa              112372 non-null  object\n",
      " 6   desc_ente_federativo_responsavel  159 non-null     object\n",
      "dtypes: object(7)\n",
      "memory usage: 6.0+ MB\n"
     ]
    }
   ],
   "source": [
    "df_empresa_00.info()"
   ]
  },
  {
   "cell_type": "code",
   "execution_count": 8,
   "id": "48e8d119-8f14-45b3-86ae-702651124887",
   "metadata": {},
   "outputs": [
    {
     "name": "stdout",
     "output_type": "stream",
     "text": [
      "<class 'pandas.core.frame.DataFrame'>\n",
      "RangeIndex: 285205 entries, 0 to 285204\n",
      "Data columns (total 30 columns):\n",
      " #   Column                           Non-Null Count   Dtype \n",
      "---  ------                           --------------   ----- \n",
      " 0   cnpj_basico                      278028 non-null  object\n",
      " 1   cnpj_ordem                       285205 non-null  object\n",
      " 2   cnpj_dv                          285205 non-null  object\n",
      " 3   cod_identificador_matriz_filial  285205 non-null  object\n",
      " 4   nome_fantasia                    219232 non-null  object\n",
      " 5   cod_situacao_cadastral           285205 non-null  object\n",
      " 6   data_situacao_cadastral          285205 non-null  object\n",
      " 7   cod_motivo_situacao_cadastral    285205 non-null  object\n",
      " 8   end_nome_cidade_no_exterior      14664 non-null   object\n",
      " 9   end_cod_pais                     352 non-null     object\n",
      " 10  data_inicio_atividade            285205 non-null  object\n",
      " 11  cod_cnae_fiscal_primaria         285205 non-null  object\n",
      " 12  cod_cnae_fiscal_secundaria       161962 non-null  object\n",
      " 13  end_tipo_de_logradouro           284822 non-null  object\n",
      " 14  end_logradouro                   279522 non-null  object\n",
      " 15  end_numero                       285198 non-null  object\n",
      " 16  end_complemento                  134186 non-null  object\n",
      " 17  end_bairro                       285204 non-null  object\n",
      " 18  end_cep                          284822 non-null  object\n",
      " 19  end_uf                           285205 non-null  object\n",
      " 20  end_cod_municipio                285205 non-null  object\n",
      " 21  ddd1                             277631 non-null  object\n",
      " 22  telefone1                        279103 non-null  object\n",
      " 23  ddd2                             11861 non-null   object\n",
      " 24  telefone2                        38451 non-null   object\n",
      " 25  dddfax                           6267 non-null    object\n",
      " 26  fax                              6273 non-null    object\n",
      " 27  email                            241214 non-null  object\n",
      " 28  cod_situacao_especial            18991 non-null   object\n",
      " 29  data_situacao_especial           0 non-null       object\n",
      "dtypes: object(30)\n",
      "memory usage: 65.3+ MB\n"
     ]
    }
   ],
   "source": [
    "df_estab_00.info()"
   ]
  },
  {
   "cell_type": "markdown",
   "id": "821274d2-40e5-4d0e-a2cd-5bfcb4627a6c",
   "metadata": {
    "tags": []
   },
   "source": [
    "## Limpeza Inicial"
   ]
  },
  {
   "cell_type": "code",
   "execution_count": 9,
   "id": "f8f755f7-6bf6-416c-b474-16e560ecddc6",
   "metadata": {},
   "outputs": [],
   "source": [
    "x = df_estab_00[df_estab_00[\"cnpj_basico\"].str.startswith(\"v\", na=False)]"
   ]
  },
  {
   "cell_type": "code",
   "execution_count": 10,
   "id": "8f2836e8-dff5-4bab-95d2-ba86340bd52f",
   "metadata": {},
   "outputs": [
    {
     "data": {
      "text/plain": [
       "vazio    7129\n",
       "Name: cnpj_basico, dtype: int64"
      ]
     },
     "execution_count": 10,
     "metadata": {},
     "output_type": "execute_result"
    }
   ],
   "source": [
    "x[\"cnpj_basico\"].value_counts()"
   ]
  },
  {
   "cell_type": "code",
   "execution_count": 11,
   "id": "999f216f-bd68-4fea-ae1d-73be0e9f7510",
   "metadata": {},
   "outputs": [],
   "source": [
    "df_estab_00[\"cnpj_basico\"] = df_estab_00[\"cnpj_basico\"].str.replace(\"vazio\", \"0\")"
   ]
  },
  {
   "cell_type": "markdown",
   "id": "ce637805-545d-47e0-aeb5-a2c64cf2b3e3",
   "metadata": {
    "tags": []
   },
   "source": [
    "## Merge das tabelas"
   ]
  },
  {
   "cell_type": "code",
   "execution_count": 12,
   "id": "235abc24-c2c7-4e8a-943c-133037e4c86b",
   "metadata": {},
   "outputs": [],
   "source": [
    "df_result = df_estab_00.merge(df_empresa_00, on='cnpj_basico', how=\"outer\")"
   ]
  },
  {
   "cell_type": "code",
   "execution_count": 13,
   "id": "d3a1659b-3e06-43b8-a36a-10dc734aa5d9",
   "metadata": {},
   "outputs": [
    {
     "data": {
      "text/plain": [
       "(397557, 36)"
      ]
     },
     "execution_count": 13,
     "metadata": {},
     "output_type": "execute_result"
    }
   ],
   "source": [
    "df_result.shape"
   ]
  },
  {
   "cell_type": "code",
   "execution_count": 14,
   "id": "e82e8d60-80a3-46ba-9ff0-ef6db10bc88a",
   "metadata": {
    "tags": []
   },
   "outputs": [],
   "source": [
    "# df_result[['cnpj_completo', 'nome_fantasia', \"razao_social\"]].head(50)"
   ]
  },
  {
   "cell_type": "code",
   "execution_count": 15,
   "id": "335a2ecf-35e8-4797-9408-3055dfff2fc5",
   "metadata": {
    "tags": []
   },
   "outputs": [
    {
     "data": {
      "text/html": [
       "<div>\n",
       "<style scoped>\n",
       "    .dataframe tbody tr th:only-of-type {\n",
       "        vertical-align: middle;\n",
       "    }\n",
       "\n",
       "    .dataframe tbody tr th {\n",
       "        vertical-align: top;\n",
       "    }\n",
       "\n",
       "    .dataframe thead th {\n",
       "        text-align: right;\n",
       "    }\n",
       "</style>\n",
       "<table border=\"1\" class=\"dataframe\">\n",
       "  <thead>\n",
       "    <tr style=\"text-align: right;\">\n",
       "      <th></th>\n",
       "      <th>cnpj_basico</th>\n",
       "      <th>cnpj_ordem</th>\n",
       "      <th>cnpj_dv</th>\n",
       "      <th>cod_identificador_matriz_filial</th>\n",
       "      <th>nome_fantasia</th>\n",
       "      <th>cod_situacao_cadastral</th>\n",
       "      <th>data_situacao_cadastral</th>\n",
       "      <th>cod_motivo_situacao_cadastral</th>\n",
       "      <th>end_nome_cidade_no_exterior</th>\n",
       "      <th>end_cod_pais</th>\n",
       "      <th>data_inicio_atividade</th>\n",
       "      <th>cod_cnae_fiscal_primaria</th>\n",
       "      <th>cod_cnae_fiscal_secundaria</th>\n",
       "      <th>end_tipo_de_logradouro</th>\n",
       "      <th>end_logradouro</th>\n",
       "      <th>end_numero</th>\n",
       "      <th>end_complemento</th>\n",
       "      <th>end_bairro</th>\n",
       "      <th>end_cep</th>\n",
       "      <th>end_uf</th>\n",
       "      <th>end_cod_municipio</th>\n",
       "      <th>ddd1</th>\n",
       "      <th>telefone1</th>\n",
       "      <th>ddd2</th>\n",
       "      <th>telefone2</th>\n",
       "      <th>dddfax</th>\n",
       "      <th>fax</th>\n",
       "      <th>email</th>\n",
       "      <th>cod_situacao_especial</th>\n",
       "      <th>data_situacao_especial</th>\n",
       "      <th>razao_social</th>\n",
       "      <th>cod_natureza_juridica</th>\n",
       "      <th>cod_qualificacao_do_responsavel</th>\n",
       "      <th>capital_social</th>\n",
       "      <th>cod_porte_da_empresa</th>\n",
       "      <th>desc_ente_federativo_responsavel</th>\n",
       "    </tr>\n",
       "  </thead>\n",
       "  <tbody>\n",
       "    <tr>\n",
       "      <th>61878</th>\n",
       "      <td>04811330</td>\n",
       "      <td>0002</td>\n",
       "      <td>07</td>\n",
       "      <td>2</td>\n",
       "      <td>NaN</td>\n",
       "      <td>02</td>\n",
       "      <td>20190403</td>\n",
       "      <td>00</td>\n",
       "      <td>NaN</td>\n",
       "      <td>NaN</td>\n",
       "      <td>20190403</td>\n",
       "      <td>4742300</td>\n",
       "      <td>4741500,4744001,4744003,4744099,4757100</td>\n",
       "      <td>AVENIDA</td>\n",
       "      <td>CONSELHEIRO ALCIDES NUNES</td>\n",
       "      <td>2</td>\n",
       "      <td>QUADRA95                  CASA  2A            ...</td>\n",
       "      <td>PROMORAR</td>\n",
       "      <td>64027220</td>\n",
       "      <td>PI</td>\n",
       "      <td>1219</td>\n",
       "      <td>86</td>\n",
       "      <td>32205061</td>\n",
       "      <td>86</td>\n",
       "      <td>98003540</td>\n",
       "      <td>NaN</td>\n",
       "      <td>NaN</td>\n",
       "      <td>JOAOJSOBRINHO@HOTMAIL.COM</td>\n",
       "      <td>NaN</td>\n",
       "      <td>NaN</td>\n",
       "      <td>ANTONIO BARBOSA DA SILVA MATERIAL DE CONSTRUCAO</td>\n",
       "      <td>2135</td>\n",
       "      <td>50</td>\n",
       "      <td>0,00</td>\n",
       "      <td>01</td>\n",
       "      <td>NaN</td>\n",
       "    </tr>\n",
       "    <tr>\n",
       "      <th>62974</th>\n",
       "      <td>04804727</td>\n",
       "      <td>0067</td>\n",
       "      <td>09</td>\n",
       "      <td>2</td>\n",
       "      <td>NaN</td>\n",
       "      <td>02</td>\n",
       "      <td>20220117</td>\n",
       "      <td>00</td>\n",
       "      <td>NaN</td>\n",
       "      <td>NaN</td>\n",
       "      <td>20190403</td>\n",
       "      <td>5223100</td>\n",
       "      <td>888888</td>\n",
       "      <td>ALAMEDA</td>\n",
       "      <td>dos maracatins</td>\n",
       "      <td>857</td>\n",
       "      <td>NaN</td>\n",
       "      <td>INDIANOPOLIS</td>\n",
       "      <td>04089012</td>\n",
       "      <td>SP</td>\n",
       "      <td>7107</td>\n",
       "      <td>test</td>\n",
       "      <td>29420811</td>\n",
       "      <td>NaN</td>\n",
       "      <td>29420811</td>\n",
       "      <td>NaN</td>\n",
       "      <td>NaN</td>\n",
       "      <td>LEGALIZACOES2@SPASSESSORIA.COM.BR</td>\n",
       "      <td>NaN</td>\n",
       "      <td>NaN</td>\n",
       "      <td>J L N - ESTACIONAMENTOS LTDA.</td>\n",
       "      <td>2062</td>\n",
       "      <td>49</td>\n",
       "      <td>5100,00</td>\n",
       "      <td>05</td>\n",
       "      <td>NaN</td>\n",
       "    </tr>\n",
       "    <tr>\n",
       "      <th>73993</th>\n",
       "      <td>04823140</td>\n",
       "      <td>0002</td>\n",
       "      <td>00</td>\n",
       "      <td>2</td>\n",
       "      <td>GOLDEN GOL</td>\n",
       "      <td>08</td>\n",
       "      <td>20201006</td>\n",
       "      <td>01</td>\n",
       "      <td>NaN</td>\n",
       "      <td>NaN</td>\n",
       "      <td>20190415</td>\n",
       "      <td>8230002</td>\n",
       "      <td>5611201,5611204,5611203,9319101</td>\n",
       "      <td>RUA</td>\n",
       "      <td>em branco</td>\n",
       "      <td>75</td>\n",
       "      <td>NaN</td>\n",
       "      <td>CENTRO</td>\n",
       "      <td>27600000</td>\n",
       "      <td>01</td>\n",
       "      <td>5921</td>\n",
       "      <td>24</td>\n",
       "      <td>24534001</td>\n",
       "      <td>NaN</td>\n",
       "      <td>NaN</td>\n",
       "      <td>NaN</td>\n",
       "      <td>NaN</td>\n",
       "      <td>CONTABILIDADEDIAS@UOL.COM.BR</td>\n",
       "      <td>NaN</td>\n",
       "      <td>NaN</td>\n",
       "      <td>GOLDEN CASA DE FESTAS LTDA</td>\n",
       "      <td>2062</td>\n",
       "      <td>49</td>\n",
       "      <td>0,00</td>\n",
       "      <td>01</td>\n",
       "      <td>NaN</td>\n",
       "    </tr>\n",
       "    <tr>\n",
       "      <th>73994</th>\n",
       "      <td>04823140</td>\n",
       "      <td>0002</td>\n",
       "      <td>00</td>\n",
       "      <td>2</td>\n",
       "      <td>GOLDEN GOL</td>\n",
       "      <td>08</td>\n",
       "      <td>20201006</td>\n",
       "      <td>01</td>\n",
       "      <td>NaN</td>\n",
       "      <td>NaN</td>\n",
       "      <td>20190415</td>\n",
       "      <td>8230002</td>\n",
       "      <td>5611201,5611204,5611203,9319101</td>\n",
       "      <td>RUA</td>\n",
       "      <td>em branco</td>\n",
       "      <td>75</td>\n",
       "      <td>NaN</td>\n",
       "      <td>CENTRO</td>\n",
       "      <td>27600000</td>\n",
       "      <td>01</td>\n",
       "      <td>5921</td>\n",
       "      <td>24</td>\n",
       "      <td>24534001</td>\n",
       "      <td>NaN</td>\n",
       "      <td>NaN</td>\n",
       "      <td>NaN</td>\n",
       "      <td>NaN</td>\n",
       "      <td>CONTABILIDADEDIAS@UOL.COM.BR</td>\n",
       "      <td>NaN</td>\n",
       "      <td>NaN</td>\n",
       "      <td>GOLDEN CASA DE FESTAS LTDA</td>\n",
       "      <td>2062</td>\n",
       "      <td>49</td>\n",
       "      <td>0,00</td>\n",
       "      <td>01</td>\n",
       "      <td>NaN</td>\n",
       "    </tr>\n",
       "    <tr>\n",
       "      <th>79032</th>\n",
       "      <td>04684654</td>\n",
       "      <td>0007</td>\n",
       "      <td>28</td>\n",
       "      <td>2</td>\n",
       "      <td>MEDICOS DE OLHOS S A</td>\n",
       "      <td>02</td>\n",
       "      <td>20190313</td>\n",
       "      <td>00</td>\n",
       "      <td>NaN</td>\n",
       "      <td>NaN</td>\n",
       "      <td>20190313</td>\n",
       "      <td>8630502</td>\n",
       "      <td>8630503</td>\n",
       "      <td>RUA</td>\n",
       "      <td>BENJAMIN LINS</td>\n",
       "      <td>790</td>\n",
       "      <td>LOJA  LJ                  ANDAR TR            ...</td>\n",
       "      <td>BATEL</td>\n",
       "      <td>80420100</td>\n",
       "      <td>py</td>\n",
       "      <td>7535</td>\n",
       "      <td>41</td>\n",
       "      <td>33335656</td>\n",
       "      <td>NaN</td>\n",
       "      <td>NaN</td>\n",
       "      <td>NaN</td>\n",
       "      <td>NaN</td>\n",
       "      <td>NaN</td>\n",
       "      <td>NaN</td>\n",
       "      <td>NaN</td>\n",
       "      <td>CORONEL DULCIDIO OFTALMOLOGIA LTDA</td>\n",
       "      <td>2062</td>\n",
       "      <td>49</td>\n",
       "      <td>17000000,00</td>\n",
       "      <td>05</td>\n",
       "      <td>NaN</td>\n",
       "    </tr>\n",
       "  </tbody>\n",
       "</table>\n",
       "</div>"
      ],
      "text/plain": [
       "      cnpj_basico cnpj_ordem cnpj_dv cod_identificador_matriz_filial  \\\n",
       "61878    04811330       0002      07                               2   \n",
       "62974    04804727       0067      09                               2   \n",
       "73993    04823140       0002      00                               2   \n",
       "73994    04823140       0002      00                               2   \n",
       "79032    04684654       0007      28                               2   \n",
       "\n",
       "              nome_fantasia cod_situacao_cadastral data_situacao_cadastral  \\\n",
       "61878                   NaN                     02                20190403   \n",
       "62974                   NaN                     02                20220117   \n",
       "73993            GOLDEN GOL                     08                20201006   \n",
       "73994            GOLDEN GOL                     08                20201006   \n",
       "79032  MEDICOS DE OLHOS S A                     02                20190313   \n",
       "\n",
       "      cod_motivo_situacao_cadastral end_nome_cidade_no_exterior end_cod_pais  \\\n",
       "61878                            00                         NaN          NaN   \n",
       "62974                            00                         NaN          NaN   \n",
       "73993                            01                         NaN          NaN   \n",
       "73994                            01                         NaN          NaN   \n",
       "79032                            00                         NaN          NaN   \n",
       "\n",
       "      data_inicio_atividade cod_cnae_fiscal_primaria  \\\n",
       "61878              20190403                  4742300   \n",
       "62974              20190403                  5223100   \n",
       "73993              20190415                  8230002   \n",
       "73994              20190415                  8230002   \n",
       "79032              20190313                  8630502   \n",
       "\n",
       "                    cod_cnae_fiscal_secundaria end_tipo_de_logradouro  \\\n",
       "61878  4741500,4744001,4744003,4744099,4757100                AVENIDA   \n",
       "62974                                   888888                ALAMEDA   \n",
       "73993          5611201,5611204,5611203,9319101                    RUA   \n",
       "73994          5611201,5611204,5611203,9319101                    RUA   \n",
       "79032                                  8630503                    RUA   \n",
       "\n",
       "                  end_logradouro end_numero  \\\n",
       "61878  CONSELHEIRO ALCIDES NUNES          2   \n",
       "62974             dos maracatins        857   \n",
       "73993                  em branco         75   \n",
       "73994                  em branco         75   \n",
       "79032              BENJAMIN LINS        790   \n",
       "\n",
       "                                         end_complemento    end_bairro  \\\n",
       "61878  QUADRA95                  CASA  2A            ...      PROMORAR   \n",
       "62974                                                NaN  INDIANOPOLIS   \n",
       "73993                                                NaN        CENTRO   \n",
       "73994                                                NaN        CENTRO   \n",
       "79032  LOJA  LJ                  ANDAR TR            ...         BATEL   \n",
       "\n",
       "        end_cep end_uf end_cod_municipio  ddd1 telefone1 ddd2 telefone2  \\\n",
       "61878  64027220     PI              1219    86  32205061   86  98003540   \n",
       "62974  04089012     SP              7107  test  29420811  NaN  29420811   \n",
       "73993  27600000     01              5921    24  24534001  NaN       NaN   \n",
       "73994  27600000     01              5921    24  24534001  NaN       NaN   \n",
       "79032  80420100     py              7535    41  33335656  NaN       NaN   \n",
       "\n",
       "      dddfax  fax                              email cod_situacao_especial  \\\n",
       "61878    NaN  NaN          JOAOJSOBRINHO@HOTMAIL.COM                   NaN   \n",
       "62974    NaN  NaN  LEGALIZACOES2@SPASSESSORIA.COM.BR                   NaN   \n",
       "73993    NaN  NaN       CONTABILIDADEDIAS@UOL.COM.BR                   NaN   \n",
       "73994    NaN  NaN       CONTABILIDADEDIAS@UOL.COM.BR                   NaN   \n",
       "79032    NaN  NaN                                NaN                   NaN   \n",
       "\n",
       "      data_situacao_especial                                     razao_social  \\\n",
       "61878                    NaN  ANTONIO BARBOSA DA SILVA MATERIAL DE CONSTRUCAO   \n",
       "62974                    NaN                    J L N - ESTACIONAMENTOS LTDA.   \n",
       "73993                    NaN                       GOLDEN CASA DE FESTAS LTDA   \n",
       "73994                    NaN                       GOLDEN CASA DE FESTAS LTDA   \n",
       "79032                    NaN               CORONEL DULCIDIO OFTALMOLOGIA LTDA   \n",
       "\n",
       "      cod_natureza_juridica cod_qualificacao_do_responsavel capital_social  \\\n",
       "61878                  2135                              50           0,00   \n",
       "62974                  2062                              49        5100,00   \n",
       "73993                  2062                              49           0,00   \n",
       "73994                  2062                              49           0,00   \n",
       "79032                  2062                              49    17000000,00   \n",
       "\n",
       "      cod_porte_da_empresa desc_ente_federativo_responsavel  \n",
       "61878                   01                              NaN  \n",
       "62974                   05                              NaN  \n",
       "73993                   01                              NaN  \n",
       "73994                   01                              NaN  \n",
       "79032                   05                              NaN  "
      ]
     },
     "execution_count": 15,
     "metadata": {},
     "output_type": "execute_result"
    }
   ],
   "source": [
    "df_result[df_result[\"razao_social\"].notna()].head(5)"
   ]
  },
  {
   "cell_type": "code",
   "execution_count": 16,
   "id": "2a8abc41-8903-4588-b589-6273dd748f56",
   "metadata": {},
   "outputs": [],
   "source": [
    "df_result['end_uf'] = df_result['end_uf'].str.upper()"
   ]
  },
  {
   "cell_type": "markdown",
   "id": "0addbb29-39d7-48ea-993a-aeb73e6eb599",
   "metadata": {
    "tags": []
   },
   "source": [
    "## Verificação se CNPJ é válido"
   ]
  },
  {
   "cell_type": "markdown",
   "id": "5fd0f1cb-c2a6-435e-9e51-56060f934c3a",
   "metadata": {},
   "source": [
    "## pesquisar se CNPJ é válido por libs"
   ]
  },
  {
   "cell_type": "code",
   "execution_count": 17,
   "id": "ff219ec8-6723-43e9-bad4-673a60df2992",
   "metadata": {},
   "outputs": [],
   "source": [
    "df_result['cnpj_basico'].fillna('0', inplace=True)"
   ]
  },
  {
   "cell_type": "code",
   "execution_count": 18,
   "id": "9606e40e-217c-4a67-a94b-e136dbb1b0c6",
   "metadata": {},
   "outputs": [],
   "source": [
    "df_result['cnpj_completo'] = df_result['cnpj_basico'] + df_result['cnpj_ordem'].str.zfill(4) + df_result['cnpj_dv']\n",
    "cnpj_completo = df_result.pop('cnpj_completo')\n",
    "df_result.insert(0, 'cnpj_completo', cnpj_completo)"
   ]
  },
  {
   "cell_type": "code",
   "execution_count": 19,
   "id": "80404108-c2b9-4dfb-b7f1-12702b987b5c",
   "metadata": {},
   "outputs": [],
   "source": [
    "df_result[\"cnpj_completo\"].fillna(\"0\", inplace=True)"
   ]
  },
  {
   "cell_type": "code",
   "execution_count": 20,
   "id": "2b007072-df99-4b02-9983-80ccab84cf1b",
   "metadata": {},
   "outputs": [],
   "source": [
    "cnpj = CNPJ()"
   ]
  },
  {
   "cell_type": "code",
   "execution_count": 22,
   "id": "0ccc6236-acd8-475c-8180-d278d7651b5a",
   "metadata": {},
   "outputs": [],
   "source": [
    "list_cnpj = df_result[\"cnpj_completo\"].tolist()"
   ]
  },
  {
   "cell_type": "code",
   "execution_count": 25,
   "id": "700386e6-badb-4f15-bb56-8730a29b4ce3",
   "metadata": {},
   "outputs": [],
   "source": [
    "cnpj_invalido = cnpj.validate_list(list_cnpj)"
   ]
  },
  {
   "cell_type": "code",
   "execution_count": 27,
   "id": "31d3ec1d-627a-4206-bb2b-4368aa8c0cf6",
   "metadata": {
    "tags": []
   },
   "outputs": [],
   "source": [
    "df_result[\"cnpj_invalido2\"] = cnpj_invalido"
   ]
  },
  {
   "cell_type": "code",
   "execution_count": 28,
   "id": "75b3fdf9-617b-4c2f-a8a5-2b2d11edc498",
   "metadata": {},
   "outputs": [],
   "source": [
    "df_result['cnpj_invalido'] = df_result.apply(lambda x : 'Válido' if len(x['cnpj_completo']) == 14 else 'Inválido',axis=1)"
   ]
  },
  {
   "cell_type": "code",
   "execution_count": null,
   "id": "4865955d-71b6-431e-b2f1-12d778ff4254",
   "metadata": {},
   "outputs": [],
   "source": [
    "invalido = df_result.pop('cnpj_invalido')\n",
    "df_result.insert(1, 'cnpj_invalido', invalido)"
   ]
  },
  {
   "cell_type": "code",
   "execution_count": null,
   "id": "3c71503b-b153-4f18-8f79-4d9ad27e60f3",
   "metadata": {
    "tags": []
   },
   "outputs": [],
   "source": [
    "df_result.isna().sum()"
   ]
  },
  {
   "cell_type": "code",
   "execution_count": null,
   "id": "bf3f8326-9d9d-41ff-935a-04c475f13f59",
   "metadata": {},
   "outputs": [],
   "source": [
    "df_result[\"razao_social\"].isna().sum()"
   ]
  },
  {
   "cell_type": "markdown",
   "id": "756967ec-7096-4dfb-aa21-c150f24ef667",
   "metadata": {
    "tags": []
   },
   "source": [
    "## Verificando CNAEs"
   ]
  },
  {
   "cell_type": "code",
   "execution_count": null,
   "id": "4387f883-b2be-4201-afaf-870670b2f11b",
   "metadata": {
    "tags": []
   },
   "outputs": [],
   "source": [
    "df_result[df_result['cod_cnae_fiscal_secundaria'].notna()]"
   ]
  },
  {
   "cell_type": "code",
   "execution_count": null,
   "id": "a617a0f6-9eef-478f-9cb3-0b6170457cee",
   "metadata": {},
   "outputs": [],
   "source": [
    "df_result[\"cod_cnae_fiscal_secundaria\"] = df_result[\"cod_cnae_fiscal_secundaria\"].str.replace(\"|\", \",\")\n",
    "df_result[\"cod_cnae_fiscal_secundaria\"] = df_result[\"cod_cnae_fiscal_secundaria\"].str.replace(\"|\", \",\")\n",
    "df_result[\"cod_cnae_fiscal_secundaria\"] = df_result[\"cod_cnae_fiscal_secundaria\"].str.split(\",\")\n"
   ]
  },
  {
   "cell_type": "code",
   "execution_count": null,
   "id": "2594b162-f05a-484c-b1bc-b307ff1f74c8",
   "metadata": {},
   "outputs": [],
   "source": [
    "# df_result[\"cod_cnae_fiscal_secundaria\"].value_counts()"
   ]
  },
  {
   "cell_type": "code",
   "execution_count": null,
   "id": "a4926634-23dd-4486-9a33-ccbf216b59f0",
   "metadata": {},
   "outputs": [],
   "source": [
    "# criar um docker e subir um postgresql"
   ]
  },
  {
   "cell_type": "code",
   "execution_count": null,
   "id": "7c40a34d-d7ad-4d4a-ade4-173b00de2219",
   "metadata": {},
   "outputs": [],
   "source": [
    "df_processado = df_result.explode(\"cod_cnae_fiscal_secundaria\")"
   ]
  },
  {
   "cell_type": "code",
   "execution_count": null,
   "id": "9c7764b5-a782-4410-b22a-97585678b9bf",
   "metadata": {
    "tags": []
   },
   "outputs": [],
   "source": [
    "df_processado[df_processado[\"cod_cnae_fiscal_secundaria\"].notna()]"
   ]
  },
  {
   "cell_type": "markdown",
   "id": "b0417636-5a94-4b2a-adf7-d7f83c14361b",
   "metadata": {},
   "source": [
    "## Pegando apenas os CNPJs válidos"
   ]
  },
  {
   "cell_type": "code",
   "execution_count": null,
   "id": "e1b242db-1456-4b03-929e-22c894d5975c",
   "metadata": {},
   "outputs": [],
   "source": [
    "df_processado = df_processado[df_processado[\"cnpj_invalido\"] == \"Válido\"]"
   ]
  },
  {
   "cell_type": "code",
   "execution_count": null,
   "id": "c0eb49c9-4c39-433f-8e8c-40e7035b23b9",
   "metadata": {
    "tags": []
   },
   "outputs": [],
   "source": [
    "df_processado.shape"
   ]
  },
  {
   "cell_type": "code",
   "execution_count": null,
   "id": "ea52b8c6-b5d4-4ad6-a3e2-26d02008f6f3",
   "metadata": {
    "tags": []
   },
   "outputs": [],
   "source": [
    "x = df_processado.isna().sum().sort_values(ascending=False)"
   ]
  },
  {
   "cell_type": "code",
   "execution_count": null,
   "id": "ae36a052-243a-4f5c-bcca-a8d1961bc03e",
   "metadata": {},
   "outputs": [],
   "source": [
    "x"
   ]
  },
  {
   "cell_type": "code",
   "execution_count": null,
   "id": "590cd1f8-58a3-4c2f-985b-58cc3503eae4",
   "metadata": {},
   "outputs": [],
   "source": [
    "# Removendo as colunas com índices de valores nulos superior a 90%"
   ]
  },
  {
   "cell_type": "code",
   "execution_count": null,
   "id": "6f5a98b2-e01d-4c1e-8db9-2e72b3c21e71",
   "metadata": {
    "tags": []
   },
   "outputs": [],
   "source": [
    "nan_cols = df_processado.columns[df_processado.isna().mean() > 0.7]"
   ]
  },
  {
   "cell_type": "code",
   "execution_count": null,
   "id": "52954d1e-e7eb-498b-af1f-4041da8a8c95",
   "metadata": {},
   "outputs": [],
   "source": [
    "nan_cols = nan_cols.tolist()\n"
   ]
  },
  {
   "cell_type": "code",
   "execution_count": null,
   "id": "e14ed128-e8a0-47bf-9e5b-0f00c90385e1",
   "metadata": {},
   "outputs": [],
   "source": [
    "try:\n",
    "    nan_cols.remove(\"cod_cnae_fiscal_secundaria\")\n",
    "except:\n",
    "    pass"
   ]
  },
  {
   "cell_type": "code",
   "execution_count": null,
   "id": "6394d90c-49e8-4ab7-9519-9b655ec380ae",
   "metadata": {},
   "outputs": [],
   "source": [
    "df_processado.drop(nan_cols, axis=1, inplace=True)"
   ]
  },
  {
   "cell_type": "code",
   "execution_count": null,
   "id": "5837d865-2c15-4b60-b01e-c7ce9a7a1afb",
   "metadata": {},
   "outputs": [],
   "source": [
    "df_processado"
   ]
  },
  {
   "cell_type": "markdown",
   "id": "80f5c338-bcd0-4bbd-8a14-c4feccbdf961",
   "metadata": {
    "tags": []
   },
   "source": [
    "## Questionamentos"
   ]
  },
  {
   "cell_type": "markdown",
   "id": "81279281-09f5-4c79-b5a3-c611f3564bc5",
   "metadata": {},
   "source": [
    "### Quantidade de estabelecimentos que não possuem cod_cnae_fiscal_secundaria e estão presentes no estado do Paraná"
   ]
  },
  {
   "cell_type": "code",
   "execution_count": null,
   "id": "e5ddb4bb-3311-4653-91ab-e39423115409",
   "metadata": {},
   "outputs": [],
   "source": [
    "pd.options.display.max_rows = None\n",
    "pd.options.display.max_columns = None"
   ]
  },
  {
   "cell_type": "code",
   "execution_count": null,
   "id": "18e43465-6259-418e-8337-d143848eb545",
   "metadata": {},
   "outputs": [],
   "source": [
    "df_processado[df_processado[\"cod_cnae_fiscal_secundaria\"].isna()].shape"
   ]
  },
  {
   "cell_type": "code",
   "execution_count": null,
   "id": "c3b16787-2528-4360-a54c-367b9e3d28fe",
   "metadata": {},
   "outputs": [],
   "source": [
    "cnaes_to_remove = [\"em branco\", \"999999\", \"1111111\", \"888888\", \"nulo\"]"
   ]
  },
  {
   "cell_type": "code",
   "execution_count": null,
   "id": "fc6d6580-559f-4b8f-b372-f87c91613147",
   "metadata": {},
   "outputs": [],
   "source": [
    "df_processado = df_processado[~df_processado[\"cod_cnae_fiscal_secundaria\"].isin(cnaes_to_remove)]"
   ]
  },
  {
   "cell_type": "code",
   "execution_count": null,
   "id": "cb42f37a-233f-43e7-bff9-26e0a9be29a1",
   "metadata": {
    "tags": []
   },
   "outputs": [],
   "source": [
    "df_processado[\"cod_cnae_fiscal_secundaria\"].value_counts()"
   ]
  },
  {
   "cell_type": "code",
   "execution_count": null,
   "id": "15326661-507d-4d41-9482-fc8c19340f1c",
   "metadata": {},
   "outputs": [],
   "source": [
    "df_processado[(df_processado[\"cod_cnae_fiscal_secundaria\"].isna()) & (df_processado[\"cod_cnae_fiscal_secundaria\"] != \"PR\")]"
   ]
  },
  {
   "cell_type": "code",
   "execution_count": null,
   "id": "3667312d-78cf-4faf-9b34-519217ad57a9",
   "metadata": {},
   "outputs": [],
   "source": []
  }
 ],
 "metadata": {
  "kernelspec": {
   "display_name": "Python 3 (ipykernel)",
   "language": "python",
   "name": "python3"
  },
  "language_info": {
   "codemirror_mode": {
    "name": "ipython",
    "version": 3
   },
   "file_extension": ".py",
   "mimetype": "text/x-python",
   "name": "python",
   "nbconvert_exporter": "python",
   "pygments_lexer": "ipython3",
   "version": "3.9.13"
  }
 },
 "nbformat": 4,
 "nbformat_minor": 5
}
